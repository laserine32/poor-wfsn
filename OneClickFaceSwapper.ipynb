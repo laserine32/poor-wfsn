{
  "nbformat": 4,
  "nbformat_minor": 0,
  "metadata": {
    "colab": {
      "provenance": [],
      "gpuType": "T4",
      "collapsed_sections": [
        "Jul-_i9xMmV2"
      ],
      "toc_visible": true,
      "include_colab_link": true
    },
    "kernelspec": {
      "name": "python3",
      "display_name": "Python 3"
    },
    "language_info": {
      "name": "python"
    },
    "accelerator": "GPU"
  },
  "cells": [
    {
      "cell_type": "markdown",
      "metadata": {
        "id": "view-in-github",
        "colab_type": "text"
      },
      "source": [
        "<a href=\"https://colab.research.google.com/github/laserine32/poor-wfsn/blob/main/OneClickFaceSwapper.ipynb\" target=\"_parent\"><img src=\"https://colab.research.google.com/assets/colab-badge.svg\" alt=\"Open In Colab\"/></a>"
      ]
    },
    {
      "cell_type": "markdown",
      "source": [
        "# ⭐ One Click Face Swapper\n",
        "\n",
        "This is based on the work of [FurkanGozukara](https://github.com/FurkanGozukara/Stable-Diffusion/blob/main/Tutorials/1-Click-DeepFake-Tutorial.md). Thank you!\n",
        "\n",
        "\n",
        "---\n",
        "\n",
        "[![GitHub](https://raw.githubusercontent.com/hollowstrawberry/kohya-colab/main/assets/github.svg)](https://github.com/laserine32/poor-wfsn)\n",
        "[![Open in Colab](https://colab.research.google.com/assets/colab-badge.svg)](https://colab.research.google.com/github/laserine32/poor-wfsn/blob/main/OneClickFaceSwapper.ipynb)"
      ],
      "metadata": {
        "id": "ivFWt665zwtD"
      }
    },
    {
      "cell_type": "markdown",
      "source": [
        "#1️⃣Preparation"
      ],
      "metadata": {
        "id": "FZJWHMouzlXb"
      }
    },
    {
      "cell_type": "code",
      "source": [
        "#@title ## ⚙️ Install\n",
        "#@markdown Download repository, and install dependency.\n",
        "from IPython.display import clear_output\n",
        "import base64\n",
        "from google.colab import drive\n",
        "\n",
        "def decode_base(base64_string):\n",
        "  base64_bytes = base64_string.encode(\"ascii\")\n",
        "  sample_string_bytes = base64.b64decode(base64_bytes)\n",
        "  return sample_string_bytes.decode(\"ascii\")\n",
        "\n",
        "mount_drive = True #@param {type:\"boolean\"}\n",
        "\n",
        "if mount_drive:\n",
        "  print(\"✅ Mounting Drive\")\n",
        "  drive.mount('/content/drive')\n",
        "\n",
        "rop = decode_base(\"aHR0cHM6Ly9naXRodWIuY29tL0Z1cmthbkdvenVrYXJhL3Jvb3A=\")\n",
        "print(\"✅ Clone Repository\")\n",
        "!git clone $rop\n",
        "# nsr = decode_base(\"aHR0cHM6Ly9naXRodWIuY29tL0dvc3VEUk0vbnNmdy1yb29wLmdpdA==\")\n",
        "# !git clone $nsr\n",
        "%cd roop\n",
        "#Tested and updated 23 August 2023 commit\n",
        "commit_hash = \"last commit\" #@param {type:\"string\"}\n",
        "print(\"✅ Chekout : \"+commit_hash)\n",
        "if commit_hash != \"last commit\":\n",
        "  #!git checkout da1ef285f1d43bd0cc8b9cdb9a0f80f7ae793a97\n",
        "  !git checkout $commit_hash\n",
        "print(\"✅ Remove NSFW checker\")\n",
        "!wget -O roop/predictor.py https://raw.githubusercontent.com/laserine32/poor-wfsn/main/predictor.py\n",
        "print(\"✅ Install Dependcy\")\n",
        "!pip install onnxruntime-gpu && pip install -r requirements.txt\n",
        "print(\"✅ Done!\")"
      ],
      "metadata": {
        "id": "Om4172FjeZZg",
        "cellView": "form"
      },
      "execution_count": null,
      "outputs": []
    },
    {
      "cell_type": "code",
      "source": [
        "#@title ## 📁 Init Directory\n",
        "import os\n",
        "from google.colab import files\n",
        "import shutil\n",
        "#@markdown ## <img src=\"https://ssl.gstatic.com/colaboratory-static/common/1420033ca1e04e5c4d3409228ecc6775/img/favicon.ico\" height=\"20px\"/> Colab local directory\n",
        "use_colab_dir = False #@param {type:\"boolean\"}\n",
        "#@markdown - Check `use_colab_dir` if you don't want to use your gdrive.\n",
        "#@markdown - The file will be placed on colab machine and will be removed when runtime stops.\n",
        "#@markdown - If you use this method, use the `downloader` below to download the results. or directly via colab files manager. The file location will be in `data/result`\n",
        "#@markdown ---\n",
        "#@markdown ## <img src=\"https://ssl.gstatic.com/images/branding/product/1x/drive_2020q4_48dp.png\" height=\"20px\"> Google Drive\n",
        "source_image = \"\" #@param {type:\"string\"}\n",
        "target_video = \"\" #@param {type:\"string\"}\n",
        "result_dir = \"\" #@param {type:\"string\"}\n",
        "#@markdown - Uncheck `use_colab_dir` if you use google drive method.\n",
        "#@markdown - If you didn't specified `result dir` then the results will be stored in `data/result`.\n",
        "\n",
        "\n",
        "source_dir = \"/content/data\"\n",
        "result_dir = result_dir if result_dir!= \"\" else \"/content/data/result\"\n",
        "\n",
        "if not os.path.exists(source_dir):\n",
        "  print(\"📁 Create `data` directory\")\n",
        "  %mkdir -p $data_root\n",
        "if not os.path.exists(result_dir):\n",
        "  print(\"📁 Create `result` directory\")\n",
        "  %mkdir -p $result_dir\n",
        "\n",
        "def gdr(si, tv, rd):\n",
        "  if si == \"\":\n",
        "    print(\"❌ source_image is empty!\")\n",
        "    return None\n",
        "  if tv == \"\":\n",
        "    print(\"❌ target_video is empty!\")\n",
        "    return None\n",
        "  if rd == \"\":\n",
        "    print(\"❌ result_dir is empty!\")\n",
        "    return None\n",
        "\n",
        "\n",
        "if use_colab_dir:\n",
        "  %cd /content/data\n",
        "  print(\"☁ Upload image source file : \")\n",
        "  source_uploaded = files.upload()\n",
        "  for filename in source_uploaded.keys():\n",
        "    source_image = os.path.join(source_dir, filename)\n",
        "  print(\"☁ Upload target file : \")\n",
        "  target_uploaded = files.upload()\n",
        "  for filename in target_uploaded.keys():\n",
        "    target_video = os.path.join(source_dir, filename)\n",
        "else:\n",
        "  gdr(source_image, target_video, result_dir)\n",
        "\n",
        "\n",
        "print(source_image, target_video, result_dir)"
      ],
      "metadata": {
        "cellView": "form",
        "id": "jek_270xIOqf"
      },
      "execution_count": null,
      "outputs": []
    },
    {
      "cell_type": "markdown",
      "source": [
        "# 2️⃣ Run"
      ],
      "metadata": {
        "id": "SdWfdHmCJp5W"
      }
    },
    {
      "cell_type": "code",
      "source": [
        "#@title ## 🖥️ UI\n",
        "#@markdown Run with user interface.\n",
        "\n",
        "# source_image = \"\" #@param {type:\"string\"}\n",
        "# target_video = \"\" #@param {type:\"string\"}\n",
        "output_filename = \"\" #@param {type:\"string\"}\n",
        "keep_frames = True #@param {type:\"boolean\"}\n",
        "keep_fps = True #@param {type:\"boolean\"}\n",
        "temp_frame_quality = 1 # @param {type:\"slider\", min:1, max:100, step:1}\n",
        "output_video_quality = 1 # @param {type:\"slider\", min:1, max:100, step:1}\n",
        "#@markdown **1 is best quality big video size, 100 worst quality low video size**\n",
        "face_restoration = True #@param {type:\"boolean\"}\n",
        "#@markdown **face restoration to improve quality significantly but it will take longer**\n",
        "# --frame-processor face_swapper face_enhancer\n",
        "#@markdown ---\n",
        "keep_opt = \"\"\n",
        "if keep_frames:\n",
        "  keep_opt += \" --keep-frames \"\n",
        "if keep_fps:\n",
        "  keep_opt += \" --keep-fps \"\n",
        "face_res = \" --frame-processor face_swapper face_enhancer \" if face_restoration else \"\"\n",
        "\n",
        "output = os.path.join(result_dir, output_filename)\n",
        "\n",
        "%cd \"/content/roop\"\n",
        "\n",
        "# %cd \"/content/\"\n",
        "\n",
        "!python run.py \\\n",
        "  -s \"$source_image\" \\\n",
        "  -t \"$target_video\" \\\n",
        "  -o \"$output\" \\\n",
        "  $keep_opt \\\n",
        "  --temp-frame-quality $temp_frame_quality \\\n",
        "  --output-video-quality $output_video_quality \\\n",
        "  --execution-provider cuda \\\n",
        "  $face_res"
      ],
      "metadata": {
        "cellView": "form",
        "id": "JXwRnGFEs7HJ"
      },
      "execution_count": null,
      "outputs": []
    },
    {
      "cell_type": "markdown",
      "source": [
        "## ⌨️ Run CLI\n",
        "**You will see processing message at the end of below printed messages e.g. Processing:  43% 136/318 00:38<00:24, 7.47frame/s**\n",
        "\n",
        "**Make sure to upload root roop folder not inside the sub roop folder and don't forget to change image and video file names**\n",
        "\n",
        "**1 is best quality big video size, 100 worst quality low video size**"
      ],
      "metadata": {
        "id": "Jul-_i9xMmV2"
      }
    },
    {
      "cell_type": "code",
      "source": [
        "%cd \"/content/roop\"\n",
        "!python run.py -s \"face2.png\" -t \"ini_01.mp4\" -o \"D_ini_01.mp4\" --keep-frames --keep-fps --temp-frame-quality 1 --output-video-quality 1 --execution-provider cuda\n"
      ],
      "metadata": {
        "id": "Is6U2huqSzLE"
      },
      "execution_count": null,
      "outputs": []
    },
    {
      "cell_type": "markdown",
      "source": [
        "**Below code will do also face restoration to improve quality significantly but it will take longer**"
      ],
      "metadata": {
        "id": "VJpNWHq1qdjT"
      }
    },
    {
      "cell_type": "code",
      "source": [
        "%cd \"/content/roop\"\n",
        "!python run.py -s \"face2.png\" -t \"brad org.mp4\" -o \"face_restored_video3.mp4\" --keep-frames --keep-fps --temp-frame-quality 1 --output-video-quality 1 --execution-provider cuda --frame-processor face_swapper face_enhancer"
      ],
      "metadata": {
        "id": "_j18G_uPqc37"
      },
      "execution_count": null,
      "outputs": []
    },
    {
      "cell_type": "markdown",
      "source": [
        "### All options are displayed below\n",
        "Append any of them to the above commands before executing\n",
        "```\n",
        "python run.py [options]\n",
        "\n",
        "-h, --help                                                                 show this help message and exit\n",
        "-s SOURCE_PATH, --source SOURCE_PATH                                       select an source image\n",
        "-t TARGET_PATH, --target TARGET_PATH                                       select an target image or video\n",
        "-o OUTPUT_PATH, --output OUTPUT_PATH                                       select output file or directory\n",
        "--frame-processor FRAME_PROCESSOR [FRAME_PROCESSOR ...]                    frame processors (choices: face_swapper, face_enhancer, ...)\n",
        "--keep-fps                                                                 keep target fps\n",
        "--keep-frames                                                              keep temporary frames\n",
        "--skip-audio                                                               skip target audio\n",
        "--many-faces                                                               process every face\n",
        "--reference-face-position REFERENCE_FACE_POSITION                          position of the reference face\n",
        "--reference-frame-number REFERENCE_FRAME_NUMBER                            number of the reference frame\n",
        "--similar-face-distance SIMILAR_FACE_DISTANCE                              face distance used for recognition\n",
        "--temp-frame-format {jpg,png}                                              image format used for frame extraction\n",
        "--temp-frame-quality [0-100]                                               image quality used for frame extraction\n",
        "--output-video-encoder {libx264,libx265,libvpx-vp9,h264_nvenc,hevc_nvenc}  encoder used for the output video\n",
        "--output-video-quality [0-100]                                             quality used for the output video\n",
        "--max-memory MAX_MEMORY                                                    maximum amount of RAM in GB\n",
        "--execution-provider {cpu} [{cpu} ...]                                     available execution provider (choices: cpu, ...)\n",
        "--execution-threads EXECUTION_THREADS                                      number of execution threads\n",
        "-v, --version                                                              show program's version number and exit\n",
        "  ```"
      ],
      "metadata": {
        "id": "jr-63BTn8UEs"
      }
    }
  ]
}
